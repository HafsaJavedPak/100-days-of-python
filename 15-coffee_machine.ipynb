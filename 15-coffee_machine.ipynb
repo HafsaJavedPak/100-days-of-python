{
 "cells": [
  {
   "cell_type": "code",
   "execution_count": 10,
   "metadata": {},
   "outputs": [],
   "source": [
    "# define resources\n",
    "resources = {\n",
    "    \"water\" : {\n",
    "        \"unit\" : \"ml\",\n",
    "        \"amount\" : 300\n",
    "    },\n",
    "    \"milk\" : {\n",
    "        \"unit\" : \"ml\" ,\n",
    "        \"amount\" : 200\n",
    "    },\n",
    "    \"coffee\" : {\n",
    "        \"unit\" : \"g\",\n",
    "        \"amount\" : 100\n",
    "    }\n",
    "}\n"
   ]
  },
  {
   "cell_type": "code",
   "execution_count": 23,
   "metadata": {},
   "outputs": [],
   "source": [
    "# dictionary to store the recipe\n",
    "coffees = {\n",
    "    \"espresso\": {\n",
    "        \"price\" : {\n",
    "            \"unit\" : \"usd\",\n",
    "            \"amount\" : 1.50\n",
    "        },\n",
    "        \"water\": {\n",
    "            \"unit\": \"ml\",\n",
    "            \"amount\": 15\n",
    "        },\n",
    "        \"coffee\": {\n",
    "            \"unit\": \"g\",\n",
    "            \"amount\": 18\n",
    "        }\n",
    "    },\n",
    "    \"latte\": {\n",
    "        \"price\" : {\n",
    "            \"unit\" : \"usd\",\n",
    "            \"amount\" : 2.50\n",
    "        },\n",
    "        \"water\": {\n",
    "            \"unit\": \"ml\",\n",
    "            \"amount\": 200\n",
    "        },\n",
    "        \"coffee\": {\n",
    "            \"unit\": \"g\",\n",
    "            \"amount\": 24\n",
    "        },\n",
    "        \"milk\": {\n",
    "            \"unit\": \"ml\",\n",
    "            \"amount\": 150\n",
    "        }\n",
    "    },\n",
    "    \"cappuccino\": {\n",
    "        \"price\" : {\n",
    "            \"unit\" : \"usd\",\n",
    "            \"amount\" : 3.00\n",
    "        },\n",
    "        \"water\": {\n",
    "            \"unit\": \"ml\",\n",
    "            \"amount\": 250\n",
    "        },\n",
    "        \"coffee\": {\n",
    "            \"unit\": \"g\",\n",
    "            \"amount\": 24\n",
    "        },\n",
    "        \"milk\": {\n",
    "            \"unit\": \"ml\",\n",
    "            \"amount\": 100\n",
    "        }\n",
    "    }\n",
    "}\n",
    "\n"
   ]
  },
  {
   "cell_type": "code",
   "execution_count": 3,
   "metadata": {},
   "outputs": [],
   "source": [
    "# print report function\n",
    "def report () :\n",
    "    for item, details in resources.items() :\n",
    "        print(f\"\\t{item.title()} : {details['amount']} {details['unit']}\")\n"
   ]
  },
  {
   "cell_type": "code",
   "execution_count": 4,
   "metadata": {},
   "outputs": [],
   "source": [
    "# validates if coffe can be made\n",
    "def validate_coffee(coffee_name: str) -> bool:\n",
    "    try:\n",
    "        \n",
    "        coffee_components = coffees[coffee_name]\n",
    "        \n",
    "        for ingredient, details in coffee_components.items():\n",
    "            if ingredient == \"price\":\n",
    "                continue\n",
    "            if details[\"amount\"] <= resources[ingredient][\"amount\"]:\n",
    "                continue\n",
    "            else:\n",
    "                return False\n",
    "        return True\n",
    "    except KeyboardInterrupt:\n",
    "        print(\"This coffee is not available.\")\n",
    "        return False\n",
    "    \n",
    "# validate_coffee(\"latte\")"
   ]
  },
  {
   "cell_type": "code",
   "execution_count": 25,
   "metadata": {},
   "outputs": [],
   "source": [
    "def validate_money(amount : int, coffee:str) -> False:\n",
    "    if amount > coffees[coffee][\"price\"][\"amount\"]:\n",
    "        print(f\"Refunding ${amount - coffees[coffee][\"price\"][\"amount\"]}.\")\n",
    "        return True\n",
    "    elif amount == coffees[coffee][\"price\"][\"amount\"]:\n",
    "        return True\n",
    "    else : \n",
    "        print(f\"Insufficient payment. ${amount} refunded.\")\n",
    "        return False\n"
   ]
  },
  {
   "cell_type": "code",
   "execution_count": 6,
   "metadata": {},
   "outputs": [],
   "source": [
    "# ask for coins and drink\n",
    "def ask_order(coffee) -> {bool, str or None}:\n",
    "    if validate_coffee(coffee_name=coffee):\n",
    "        print(\"Enter payment please.\")\n",
    "        penny = float(input(\"\\tPenny : \"))/100\n",
    "        dime = float(input(\"\\tDime : \"))/100\n",
    "        nickel = float(input(\"\\tNickel : \"))/100\n",
    "        quarter = float(input(\"\\tQuarter : \"))/100\n",
    "        money = penny + dime + nickel + quarter\n",
    "        if validate_money(amount=money,coffee=coffee):\n",
    "            print(\"Making Coffee.....\")\n",
    "            return (True, coffee)\n",
    "        else:\n",
    "            return (False, None)\n",
    "    else :\n",
    "        return (False, None)\n",
    "\n",
    "    "
   ]
  },
  {
   "cell_type": "code",
   "execution_count": 27,
   "metadata": {},
   "outputs": [
    {
     "name": "stdout",
     "output_type": "stream",
     "text": [
      "Here is your latte ☕. Enjoy!\n"
     ]
    }
   ],
   "source": [
    "# if transaction successful, then make coffee\n",
    "def make_coffee(coffee_name) -> None:\n",
    "    temp_coffee = coffees[coffee_name].copy()\n",
    "    temp_coffee.pop(\"price\",None)\n",
    "    # for item, details in temp_coffee.items() :\n",
    "        # resources[item][\"amount\"] -= details['amount']\n",
    "    \n",
    "    print(\"Here is your latte ☕. Enjoy!\")\n",
    "\n",
    "make_coffee(\"latte\")"
   ]
  },
  {
   "cell_type": "code",
   "execution_count": 30,
   "metadata": {},
   "outputs": [
    {
     "name": "stdout",
     "output_type": "stream",
     "text": [
      "Turning coffee machine OFF.\n",
      "Invalid option selected. Please try again.\n",
      "Invalid option selected. Please try again.\n",
      "Invalid option selected. Please try again.\n"
     ]
    },
    {
     "ename": "",
     "evalue": "",
     "output_type": "error",
     "traceback": [
      "\u001b[1;31mThe Kernel crashed while executing code in the current cell or a previous cell. \n",
      "\u001b[1;31mPlease review the code in the cell(s) to identify a possible cause of the failure. \n",
      "\u001b[1;31mClick <a href='https://aka.ms/vscodeJupyterKernelCrash'>here</a> for more info. \n",
      "\u001b[1;31mView Jupyter <a href='command:jupyter.viewOutput'>log</a> for further details."
     ]
    }
   ],
   "source": [
    "import sys\n",
    "if __name__ == \"__main__\":\n",
    "    while True:\n",
    "        choice = input(\"What would you like? (espresso/latte/cappuccino):\").lower()\n",
    "        \n",
    "        if choice == \"report\":\n",
    "            report()\n",
    "        elif choice == \"off\":\n",
    "            print(\"Turning coffee machine OFF.\")\n",
    "            sys.exit(0)\n",
    "        elif choice in [\"espress\",\"latte\",\"cappuccino\"]:           \n",
    "            print(\"hi\") \n",
    "            can_make_coffee, coffee_name1 = ask_order(choice)\n",
    "            if can_make_coffee == True:\n",
    "                make_coffee(coffee_name=coffee_name1)\n",
    "        else:\n",
    "            print(\"Invalid option selected. Please try again.\")"
   ]
  },
  {
   "cell_type": "code",
   "execution_count": null,
   "metadata": {},
   "outputs": [],
   "source": []
  }
 ],
 "metadata": {
  "kernelspec": {
   "display_name": ".env",
   "language": "python",
   "name": "python3"
  },
  "language_info": {
   "codemirror_mode": {
    "name": "ipython",
    "version": 3
   },
   "file_extension": ".py",
   "mimetype": "text/x-python",
   "name": "python",
   "nbconvert_exporter": "python",
   "pygments_lexer": "ipython3",
   "version": "3.12.3"
  }
 },
 "nbformat": 4,
 "nbformat_minor": 2
}
